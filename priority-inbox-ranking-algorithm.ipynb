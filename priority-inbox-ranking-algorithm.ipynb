{
 "cells": [
  {
   "cell_type": "markdown",
   "metadata": {},
   "source": [
    "# Ranking: Priority Inbox\n",
    "## Introduction\n",
    "**Note: This is a very basic implementation with probably a lot of inefficient and redundant code. I might refactor the code later to improve performance and reduce result variation from the book. Feel free to suggest improvements via GitHub Issues.**\n",
    "\n",
    "This notebook is an implementation of the weight based Ranking Algorithm from O'Reilly Media's Machine Learning for Email using Python. The Algorithm uses different aspects of the emails such as the sender details, thread activity, temporal analysis and frequent terms analysis. We will only use the ham messages from the publicly available dataset from [SpamAssassin Public Corpus](http://spamassassin.apache.org/publiccorpus/).\n",
    "\n",
    "To begin with, we will import some modules. We use pandas for loading emails and manipulating dataframes, numpy for some mathematical functions, matplotlib for plotting, nltk for text processing, sklearn for feature extraction, email for parsing raw email, and re for regular expressions."
   ]
  },
  {
   "cell_type": "code",
   "execution_count": 107,
   "metadata": {},
   "outputs": [],
   "source": [
    "import pandas as pd\n",
    "import numpy as np\n",
    "import matplotlib.pyplot as plt\n",
    "import os, re, email\n",
    "import nltk\n",
    "from sklearn.feature_extraction.text import CountVectorizer\n",
    "%matplotlib inline"
   ]
  },
  {
   "cell_type": "markdown",
   "metadata": {},
   "source": [
    "The data is located inside the `/data` directory from the current directory. You need to extract the two archives inside the data directory before you can load the emails. Make sure that the data is extracted in respected directory i.e. `easy_ham` and `hard_ham` directories."
   ]
  },
  {
   "cell_type": "code",
   "execution_count": 4,
   "metadata": {},
   "outputs": [],
   "source": [
    "data = os.curdir + '/data/'\n",
    "easy_ham_dir = data + '/easy_ham/'\n",
    "hard_ham_dir = data + '/hard_ham/'"
   ]
  },
  {
   "cell_type": "markdown",
   "metadata": {},
   "source": [
    "Then, we will load each file from the `/data/easy_ham` and `/data/hard_ham` directories to a list. Note that the files are encoded in latin so `encoding=latin1` is used while opening the file. The email module then takes each file and gives an email message object which is appended to the respective list."
   ]
  },
  {
   "cell_type": "code",
   "execution_count": 5,
   "metadata": {},
   "outputs": [],
   "source": [
    "easy_ham = []\n",
    "hard_ham = []\n",
    "for file_name in os.listdir(easy_ham_dir):\n",
    "    easy_ham.append(email.message_from_file(open(easy_ham_dir + file_name, 'r', encoding='latin1')))\n",
    "for file_name in os.listdir(hard_ham_dir):\n",
    "    hard_ham.append(email.message_from_file(open(hard_ham_dir + file_name, 'r', encoding='latin1')))"
   ]
  },
  {
   "cell_type": "markdown",
   "metadata": {},
   "source": [
    "We will create a dictionary with the features we will extract as the key. `from` gives the sender's email address, `date` is the date when the email was sent, `subject` gives the email's subject and `message` is the email's message content."
   ]
  },
  {
   "cell_type": "code",
   "execution_count": 6,
   "metadata": {},
   "outputs": [],
   "source": [
    "features_easy_ham = {\n",
    "    'from': [],\n",
    "    'date': [],\n",
    "    'subject': [],\n",
    "    'message': []   \n",
    "}"
   ]
  },
  {
   "cell_type": "markdown",
   "metadata": {},
   "source": [
    "The email module parses each file from the `easy_ham` list and extracts information about the sender, the email sent date, email subject and email's message content which are inserted to the `features_easy_ham` dictionary."
   ]
  },
  {
   "cell_type": "code",
   "execution_count": 7,
   "metadata": {},
   "outputs": [],
   "source": [
    "# TODO: Too messy, Clean the code\n",
    "for email_ in easy_ham:\n",
    "    features_easy_ham['from'].append(email_.get('from'))\n",
    "    features_easy_ham['date'].append(email_.get('date'))\n",
    "    features_easy_ham['subject'].append(email_.get('subject'))\n",
    "    message = email_.get_payload()\n",
    "    if type(message) == type([]):\n",
    "        message = message[0].get_payload()\n",
    "        if type(message) == type([]):\n",
    "            message = message[0].get_payload()\n",
    "            if type(message) == type([]):\n",
    "                message = message[0].get_payload()\n",
    "    features_easy_ham['message'].append(message)"
   ]
  },
  {
   "cell_type": "markdown",
   "metadata": {},
   "source": [
    "Now, we use the `pd.DataFrame.from_dict()` method to create a dataframe from the `feature_easy_ham` dictionary. Let's check out some of the email records."
   ]
  },
  {
   "cell_type": "code",
   "execution_count": 8,
   "metadata": {},
   "outputs": [
    {
     "data": {
      "text/html": [
       "<div>\n",
       "<style scoped>\n",
       "    .dataframe tbody tr th:only-of-type {\n",
       "        vertical-align: middle;\n",
       "    }\n",
       "\n",
       "    .dataframe tbody tr th {\n",
       "        vertical-align: top;\n",
       "    }\n",
       "\n",
       "    .dataframe thead th {\n",
       "        text-align: right;\n",
       "    }\n",
       "</style>\n",
       "<table border=\"1\" class=\"dataframe\">\n",
       "  <thead>\n",
       "    <tr style=\"text-align: right;\">\n",
       "      <th></th>\n",
       "      <th>from</th>\n",
       "      <th>date</th>\n",
       "      <th>subject</th>\n",
       "      <th>message</th>\n",
       "    </tr>\n",
       "  </thead>\n",
       "  <tbody>\n",
       "    <tr>\n",
       "      <th>0</th>\n",
       "      <td>Robert Elz &lt;kre@munnari.OZ.AU&gt;</td>\n",
       "      <td>Thu, 22 Aug 2002 18:26:25 +0700</td>\n",
       "      <td>Re: New Sequences Window</td>\n",
       "      <td>Date:        Wed, 21 Aug 2002 10:54:46 -05...</td>\n",
       "    </tr>\n",
       "    <tr>\n",
       "      <th>1</th>\n",
       "      <td>Steve Burt &lt;Steve_Burt@cursor-system.com&gt;</td>\n",
       "      <td>Thu, 22 Aug 2002 12:46:18 +0100</td>\n",
       "      <td>[zzzzteana] RE: Alexander</td>\n",
       "      <td>Martin A posted:\\nTassos Papadopoulos, the Gre...</td>\n",
       "    </tr>\n",
       "    <tr>\n",
       "      <th>2</th>\n",
       "      <td>\"Tim Chapman\" &lt;timc@2ubh.com&gt;</td>\n",
       "      <td>Thu, 22 Aug 2002 13:52:38 +0100</td>\n",
       "      <td>[zzzzteana] Moscow bomber</td>\n",
       "      <td>Man Threatens Explosion In Moscow \\n\\nThursday...</td>\n",
       "    </tr>\n",
       "    <tr>\n",
       "      <th>3</th>\n",
       "      <td>Monty Solomon &lt;monty@roscom.com&gt;</td>\n",
       "      <td>Thu, 22 Aug 2002 09:15:25 -0400</td>\n",
       "      <td>[IRR] Klez: The Virus That  Won't Die</td>\n",
       "      <td>Klez: The Virus That Won't Die\\n \\nAlready the...</td>\n",
       "    </tr>\n",
       "    <tr>\n",
       "      <th>4</th>\n",
       "      <td>Tony Nugent &lt;tony@linuxworks.com.au&gt;</td>\n",
       "      <td>Thu, 22 Aug 2002 23:36:32 +1000</td>\n",
       "      <td>Re: Insert signature</td>\n",
       "      <td>On Wed Aug 21 2002 at 15:46, Ulises Ponce wrot...</td>\n",
       "    </tr>\n",
       "  </tbody>\n",
       "</table>\n",
       "</div>"
      ],
      "text/plain": [
       "                                        from                             date  \\\n",
       "0             Robert Elz <kre@munnari.OZ.AU>  Thu, 22 Aug 2002 18:26:25 +0700   \n",
       "1  Steve Burt <Steve_Burt@cursor-system.com>  Thu, 22 Aug 2002 12:46:18 +0100   \n",
       "2              \"Tim Chapman\" <timc@2ubh.com>  Thu, 22 Aug 2002 13:52:38 +0100   \n",
       "3           Monty Solomon <monty@roscom.com>  Thu, 22 Aug 2002 09:15:25 -0400   \n",
       "4       Tony Nugent <tony@linuxworks.com.au>  Thu, 22 Aug 2002 23:36:32 +1000   \n",
       "\n",
       "                                 subject  \\\n",
       "0               Re: New Sequences Window   \n",
       "1              [zzzzteana] RE: Alexander   \n",
       "2              [zzzzteana] Moscow bomber   \n",
       "3  [IRR] Klez: The Virus That  Won't Die   \n",
       "4                   Re: Insert signature   \n",
       "\n",
       "                                             message  \n",
       "0      Date:        Wed, 21 Aug 2002 10:54:46 -05...  \n",
       "1  Martin A posted:\\nTassos Papadopoulos, the Gre...  \n",
       "2  Man Threatens Explosion In Moscow \\n\\nThursday...  \n",
       "3  Klez: The Virus That Won't Die\\n \\nAlready the...  \n",
       "4  On Wed Aug 21 2002 at 15:46, Ulises Ponce wrot...  "
      ]
     },
     "execution_count": 8,
     "metadata": {},
     "output_type": "execute_result"
    }
   ],
   "source": [
    "easy_ham = pd.DataFrame.from_dict(features_easy_ham)\n",
    "easy_ham.head()"
   ]
  },
  {
   "cell_type": "markdown",
   "metadata": {},
   "source": [
    "From above table, we can clearly see different informations of the emails. But, it is far from being usable in our Algorithm. We will extract only the email address from the `from` column. The items in `date` column are string but for time analysis, we will need to convert it to proper format. But, first, let's remove the duplicate rows from the dataframe. We have the `drop_duplicates()` method for this. It seems that more than hundred redundant records existed in the dataset."
   ]
  },
  {
   "cell_type": "code",
   "execution_count": 9,
   "metadata": {},
   "outputs": [
    {
     "name": "stdout",
     "output_type": "stream",
     "text": [
      "(2551, 4)\n",
      "(2437, 4)\n"
     ]
    }
   ],
   "source": [
    "print(easy_ham.shape)\n",
    "easy_ham = easy_ham.drop_duplicates()\n",
    "print(easy_ham.shape)"
   ]
  },
  {
   "cell_type": "markdown",
   "metadata": {},
   "source": [
    "## Data Pre-processing"
   ]
  },
  {
   "cell_type": "markdown",
   "metadata": {},
   "source": [
    "Now, we will use regular expression on the `from` column to extract only the email address. It will grab email addresses in two formats: \\<abc@xxx.net> and abc@xxx.net. we will need to further process the first type of email for uniformity. We can use the `str.extract()` method to extract the emails."
   ]
  },
  {
   "cell_type": "code",
   "execution_count": 10,
   "metadata": {},
   "outputs": [],
   "source": [
    "email_regex = r\"(\\S+@\\S+)\"\n",
    "email_regex = re.compile(email_regex)"
   ]
  },
  {
   "cell_type": "code",
   "execution_count": 11,
   "metadata": {},
   "outputs": [],
   "source": [
    "easy_ham['from'] = easy_ham['from'].str.extract(email_regex)"
   ]
  },
  {
   "cell_type": "markdown",
   "metadata": {},
   "source": [
    "Now, we will check if an email starts with '<'. If it does, we will drop it and append it to a list. Then, we will update the `from` column with the newly processed data."
   ]
  },
  {
   "cell_type": "code",
   "execution_count": 12,
   "metadata": {},
   "outputs": [],
   "source": [
    "easy_ham_list = []\n",
    "for matched_value in easy_ham['from']:\n",
    "    final_value = matched_value\n",
    "    if matched_value[0]=='<':\n",
    "        final_value = matched_value[1:-1]\n",
    "    easy_ham_list.append(final_value)"
   ]
  },
  {
   "cell_type": "code",
   "execution_count": 13,
   "metadata": {},
   "outputs": [],
   "source": [
    "easy_ham['from'] = easy_ham_list"
   ]
  },
  {
   "cell_type": "markdown",
   "metadata": {},
   "source": [
    "We will then convert all data to lowercase to increase uniformity. It will also make it easier to process text data."
   ]
  },
  {
   "cell_type": "code",
   "execution_count": 14,
   "metadata": {},
   "outputs": [],
   "source": [
    "easy_ham['from'] = easy_ham['from'].apply(str.lower)\n",
    "easy_ham['subject'] = easy_ham['subject'].apply(str.lower)\n",
    "easy_ham['message'] = easy_ham['message'].apply(str.lower)"
   ]
  },
  {
   "cell_type": "markdown",
   "metadata": {},
   "source": [
    "By grouping the dataframe by the `from` column and sorting the values in descending order, we can observe the users who have sent the maximum number of emails. rssfeeds@example.com has the highest number which is 614. This is from RSS feeds and is probably not much useful for our Algorithm."
   ]
  },
  {
   "cell_type": "code",
   "execution_count": 15,
   "metadata": {},
   "outputs": [
    {
     "data": {
      "text/html": [
       "<div>\n",
       "<style scoped>\n",
       "    .dataframe tbody tr th:only-of-type {\n",
       "        vertical-align: middle;\n",
       "    }\n",
       "\n",
       "    .dataframe tbody tr th {\n",
       "        vertical-align: top;\n",
       "    }\n",
       "\n",
       "    .dataframe thead th {\n",
       "        text-align: right;\n",
       "    }\n",
       "</style>\n",
       "<table border=\"1\" class=\"dataframe\">\n",
       "  <thead>\n",
       "    <tr style=\"text-align: right;\">\n",
       "      <th></th>\n",
       "      <th>date</th>\n",
       "      <th>subject</th>\n",
       "      <th>message</th>\n",
       "    </tr>\n",
       "    <tr>\n",
       "      <th>from</th>\n",
       "      <th></th>\n",
       "      <th></th>\n",
       "      <th></th>\n",
       "    </tr>\n",
       "  </thead>\n",
       "  <tbody>\n",
       "    <tr>\n",
       "      <th>rssfeeds@example.com</th>\n",
       "      <td>614</td>\n",
       "      <td>614</td>\n",
       "      <td>614</td>\n",
       "    </tr>\n",
       "    <tr>\n",
       "      <th>tomwhore@slack.net</th>\n",
       "      <td>55</td>\n",
       "      <td>55</td>\n",
       "      <td>55</td>\n",
       "    </tr>\n",
       "    <tr>\n",
       "      <th>pudge@perl.org</th>\n",
       "      <td>52</td>\n",
       "      <td>52</td>\n",
       "      <td>52</td>\n",
       "    </tr>\n",
       "    <tr>\n",
       "      <th>tim.one@comcast.net</th>\n",
       "      <td>45</td>\n",
       "      <td>45</td>\n",
       "      <td>45</td>\n",
       "    </tr>\n",
       "    <tr>\n",
       "      <th>garym@canada.com</th>\n",
       "      <td>42</td>\n",
       "      <td>42</td>\n",
       "      <td>42</td>\n",
       "    </tr>\n",
       "  </tbody>\n",
       "</table>\n",
       "</div>"
      ],
      "text/plain": [
       "                      date  subject  message\n",
       "from                                        \n",
       "rssfeeds@example.com   614      614      614\n",
       "tomwhore@slack.net      55       55       55\n",
       "pudge@perl.org          52       52       52\n",
       "tim.one@comcast.net     45       45       45\n",
       "garym@canada.com        42       42       42"
      ]
     },
     "execution_count": 15,
     "metadata": {},
     "output_type": "execute_result"
    }
   ],
   "source": [
    "easy_ham.groupby('from').aggregate('count').sort_values('subject', ascending=False).head()"
   ]
  },
  {
   "cell_type": "markdown",
   "metadata": {},
   "source": [
    "We will remove all entries from rssfeeds@example.com"
   ]
  },
  {
   "cell_type": "code",
   "execution_count": 16,
   "metadata": {},
   "outputs": [
    {
     "name": "stdout",
     "output_type": "stream",
     "text": [
      "(1823, 4)\n"
     ]
    }
   ],
   "source": [
    "easy_ham = easy_ham[easy_ham['from']!='rssfeeds@example.com']\n",
    "print(easy_ham.shape)"
   ]
  },
  {
   "cell_type": "markdown",
   "metadata": {},
   "source": [
    "Now, we need to convert the string dates to a proper datetime format which can be used to analyze emails from perspective of time. For this, we will use pandas' `to_datetime()` method, which parses the string date to Timestamp format."
   ]
  },
  {
   "cell_type": "code",
   "execution_count": 230,
   "metadata": {},
   "outputs": [],
   "source": [
    "easy_ham.date = pd.to_datetime(easy_ham.date, infer_datetime_format=True)"
   ]
  },
  {
   "cell_type": "markdown",
   "metadata": {},
   "source": [
    "We have finished our data cleaning and now we can prepare the dataset for our algorithm. We set the index to the `date` column so that we can order the emails according to the email date. Let's name the dataframe priority_df."
   ]
  },
  {
   "cell_type": "code",
   "execution_count": 18,
   "metadata": {},
   "outputs": [
    {
     "name": "stdout",
     "output_type": "stream",
     "text": [
      "(1823, 3)\n"
     ]
    }
   ],
   "source": [
    "priority_df = easy_ham.set_index('date')\n",
    "priority_df = priority_df.sort_index()\n",
    "print(priority_df.shape)"
   ]
  },
  {
   "cell_type": "markdown",
   "metadata": {},
   "source": [
    "Although, we have fixed a lot of issues, there still exist some outliers like the below where the indices are same."
   ]
  },
  {
   "cell_type": "code",
   "execution_count": 19,
   "metadata": {},
   "outputs": [
    {
     "data": {
      "text/html": [
       "<div>\n",
       "<style scoped>\n",
       "    .dataframe tbody tr th:only-of-type {\n",
       "        vertical-align: middle;\n",
       "    }\n",
       "\n",
       "    .dataframe tbody tr th {\n",
       "        vertical-align: top;\n",
       "    }\n",
       "\n",
       "    .dataframe thead th {\n",
       "        text-align: right;\n",
       "    }\n",
       "</style>\n",
       "<table border=\"1\" class=\"dataframe\">\n",
       "  <thead>\n",
       "    <tr style=\"text-align: right;\">\n",
       "      <th></th>\n",
       "      <th>from</th>\n",
       "      <th>subject</th>\n",
       "      <th>message</th>\n",
       "    </tr>\n",
       "    <tr>\n",
       "      <th>date</th>\n",
       "      <th></th>\n",
       "      <th></th>\n",
       "      <th></th>\n",
       "    </tr>\n",
       "  </thead>\n",
       "  <tbody>\n",
       "    <tr>\n",
       "      <th>2002-08-28 10:21:47</th>\n",
       "      <td>yyyy@example.com</td>\n",
       "      <td>re: [satalk] setting up a spam eating address</td>\n",
       "      <td>\\n\"steve thomas\" said:\\n\\n&gt; i created a user (...</td>\n",
       "    </tr>\n",
       "    <tr>\n",
       "      <th>2002-08-28 10:21:47</th>\n",
       "      <td>zzzz@example.com</td>\n",
       "      <td>re: [satalk] setting up a spam eating address</td>\n",
       "      <td>\\n\"steve thomas\" said:\\n\\n&gt; i created a user (...</td>\n",
       "    </tr>\n",
       "  </tbody>\n",
       "</table>\n",
       "</div>"
      ],
      "text/plain": [
       "                                 from  \\\n",
       "date                                    \n",
       "2002-08-28 10:21:47  yyyy@example.com   \n",
       "2002-08-28 10:21:47  zzzz@example.com   \n",
       "\n",
       "                                                           subject  \\\n",
       "date                                                                 \n",
       "2002-08-28 10:21:47  re: [satalk] setting up a spam eating address   \n",
       "2002-08-28 10:21:47  re: [satalk] setting up a spam eating address   \n",
       "\n",
       "                                                               message  \n",
       "date                                                                    \n",
       "2002-08-28 10:21:47  \\n\"steve thomas\" said:\\n\\n> i created a user (...  \n",
       "2002-08-28 10:21:47  \\n\"steve thomas\" said:\\n\\n> i created a user (...  "
      ]
     },
     "execution_count": 19,
     "metadata": {},
     "output_type": "execute_result"
    }
   ],
   "source": [
    "priority_df.loc['2002-08-28 10:21:47']"
   ]
  },
  {
   "cell_type": "markdown",
   "metadata": {},
   "source": [
    "We will drop such records by keeping all records except the index duplicated."
   ]
  },
  {
   "cell_type": "code",
   "execution_count": 20,
   "metadata": {},
   "outputs": [
    {
     "name": "stdout",
     "output_type": "stream",
     "text": [
      "(1810, 3)\n"
     ]
    }
   ],
   "source": [
    "priority_df = priority_df[~priority_df.index.duplicated(keep='first')]\n",
    "print(priority_df.shape)"
   ]
  },
  {
   "cell_type": "markdown",
   "metadata": {},
   "source": [
    "Now, we will create our training and testing dataset. Half of the original dataset will be our training dataset and the other half will be our testing dataset."
   ]
  },
  {
   "cell_type": "code",
   "execution_count": 343,
   "metadata": {},
   "outputs": [
    {
     "name": "stdout",
     "output_type": "stream",
     "text": [
      "(904, 3)\n",
      "(905, 3)\n"
     ]
    }
   ],
   "source": [
    "priority_train = priority_df.iloc[1:priority_df.shape[0]//2]\n",
    "priority_test = priority_df.iloc[priority_df.shape[0]//2:]\n",
    "print(priority_train.shape)\n",
    "print(priority_test.shape)"
   ]
  },
  {
   "cell_type": "code",
   "execution_count": 22,
   "metadata": {},
   "outputs": [
    {
     "data": {
      "text/html": [
       "<div>\n",
       "<style scoped>\n",
       "    .dataframe tbody tr th:only-of-type {\n",
       "        vertical-align: middle;\n",
       "    }\n",
       "\n",
       "    .dataframe tbody tr th {\n",
       "        vertical-align: top;\n",
       "    }\n",
       "\n",
       "    .dataframe thead th {\n",
       "        text-align: right;\n",
       "    }\n",
       "</style>\n",
       "<table border=\"1\" class=\"dataframe\">\n",
       "  <thead>\n",
       "    <tr style=\"text-align: right;\">\n",
       "      <th></th>\n",
       "      <th>from</th>\n",
       "      <th>subject</th>\n",
       "      <th>message</th>\n",
       "    </tr>\n",
       "    <tr>\n",
       "      <th>date</th>\n",
       "      <th></th>\n",
       "      <th></th>\n",
       "      <th></th>\n",
       "    </tr>\n",
       "  </thead>\n",
       "  <tbody>\n",
       "    <tr>\n",
       "      <th>2002-02-01 06:53:41</th>\n",
       "      <td>lance_tt@bellsouth.net</td>\n",
       "      <td>re: please help a newbie compile mplayer :-)</td>\n",
       "      <td>make sure you rebuild as root and you're in th...</td>\n",
       "    </tr>\n",
       "    <tr>\n",
       "      <th>2002-02-01 09:01:44</th>\n",
       "      <td>robinderbains@shaw.ca</td>\n",
       "      <td>re: please help a newbie compile mplayer :-)</td>\n",
       "      <td>lance wrote:\\n\\n&gt;make sure you rebuild as root...</td>\n",
       "    </tr>\n",
       "    <tr>\n",
       "      <th>2002-02-01 09:29:23</th>\n",
       "      <td>matthias@egwn.net</td>\n",
       "      <td>re: please help a newbie compile mplayer :-)</td>\n",
       "      <td>once upon a time, rob wrote :\\n\\n&gt;  i dl'd gcc...</td>\n",
       "    </tr>\n",
       "    <tr>\n",
       "      <th>2002-02-01 13:00:22</th>\n",
       "      <td>harri.haataja@cs.helsinki.fi</td>\n",
       "      <td>http://apt.nixia.no/</td>\n",
       "      <td>title page has a login screen and i can't seem...</td>\n",
       "    </tr>\n",
       "    <tr>\n",
       "      <th>2002-02-01 14:35:41</th>\n",
       "      <td>matthias@egwn.net</td>\n",
       "      <td>re: http://apt.nixia.no/</td>\n",
       "      <td>once upon a time, harri wrote :\\n\\n&gt; title pag...</td>\n",
       "    </tr>\n",
       "  </tbody>\n",
       "</table>\n",
       "</div>"
      ],
      "text/plain": [
       "                                             from  \\\n",
       "date                                                \n",
       "2002-02-01 06:53:41        lance_tt@bellsouth.net   \n",
       "2002-02-01 09:01:44         robinderbains@shaw.ca   \n",
       "2002-02-01 09:29:23             matthias@egwn.net   \n",
       "2002-02-01 13:00:22  harri.haataja@cs.helsinki.fi   \n",
       "2002-02-01 14:35:41             matthias@egwn.net   \n",
       "\n",
       "                                                          subject  \\\n",
       "date                                                                \n",
       "2002-02-01 06:53:41  re: please help a newbie compile mplayer :-)   \n",
       "2002-02-01 09:01:44  re: please help a newbie compile mplayer :-)   \n",
       "2002-02-01 09:29:23  re: please help a newbie compile mplayer :-)   \n",
       "2002-02-01 13:00:22                          http://apt.nixia.no/   \n",
       "2002-02-01 14:35:41                      re: http://apt.nixia.no/   \n",
       "\n",
       "                                                               message  \n",
       "date                                                                    \n",
       "2002-02-01 06:53:41  make sure you rebuild as root and you're in th...  \n",
       "2002-02-01 09:01:44  lance wrote:\\n\\n>make sure you rebuild as root...  \n",
       "2002-02-01 09:29:23  once upon a time, rob wrote :\\n\\n>  i dl'd gcc...  \n",
       "2002-02-01 13:00:22  title page has a login screen and i can't seem...  \n",
       "2002-02-01 14:35:41  once upon a time, harri wrote :\\n\\n> title pag...  "
      ]
     },
     "execution_count": 22,
     "metadata": {},
     "output_type": "execute_result"
    }
   ],
   "source": [
    "priority_train.head()"
   ]
  },
  {
   "cell_type": "markdown",
   "metadata": {},
   "source": [
    "## Weights Training\n",
    "We will generate weights from different aspects of email. We will use five weighting schemes for our algorithm."
   ]
  },
  {
   "cell_type": "markdown",
   "metadata": {},
   "source": [
    "### Weights from sender information ('from')\n",
    "First, we will generate weights from the frequency of email addresses. The email address with more number of emails will have greater weight."
   ]
  },
  {
   "cell_type": "code",
   "execution_count": 303,
   "metadata": {},
   "outputs": [],
   "source": [
    "from_weight = priority_train.groupby('from', as_index=False).subject.count()"
   ]
  },
  {
   "cell_type": "markdown",
   "metadata": {},
   "source": [
    "The weights generated above have high variation so we will apply natural log to smooth the weights, and reduce the variation. The `transform()` method allows us to apply any function to the pandas Series. Here, `lambda x: np.log(x+1)` is applied to all item. As `log(0)` is undefined, we add 1 to make sure that this condition doesn't occur."
   ]
  },
  {
   "cell_type": "code",
   "execution_count": 304,
   "metadata": {},
   "outputs": [],
   "source": [
    "from_weight['weight'] = from_weight.subject.transform(lambda x: np.log(x+1))\n",
    "from_weight.drop('subject', axis=1, inplace=True)"
   ]
  },
  {
   "cell_type": "markdown",
   "metadata": {},
   "source": [
    "Let's checkout the email addresses with the highest frequency."
   ]
  },
  {
   "cell_type": "code",
   "execution_count": 389,
   "metadata": {},
   "outputs": [
    {
     "data": {
      "text/html": [
       "<div>\n",
       "<style scoped>\n",
       "    .dataframe tbody tr th:only-of-type {\n",
       "        vertical-align: middle;\n",
       "    }\n",
       "\n",
       "    .dataframe tbody tr th {\n",
       "        vertical-align: top;\n",
       "    }\n",
       "\n",
       "    .dataframe thead th {\n",
       "        text-align: right;\n",
       "    }\n",
       "</style>\n",
       "<table border=\"1\" class=\"dataframe\">\n",
       "  <thead>\n",
       "    <tr style=\"text-align: right;\">\n",
       "      <th></th>\n",
       "      <th>from</th>\n",
       "      <th>weight</th>\n",
       "    </tr>\n",
       "  </thead>\n",
       "  <tbody>\n",
       "    <tr>\n",
       "      <th>259</th>\n",
       "      <td>tim.one@comcast.net</td>\n",
       "      <td>3.610918</td>\n",
       "    </tr>\n",
       "    <tr>\n",
       "      <th>19</th>\n",
       "      <td>beberg@mithral.com</td>\n",
       "      <td>3.178054</td>\n",
       "    </tr>\n",
       "    <tr>\n",
       "      <th>171</th>\n",
       "      <td>matthias@egwn.net</td>\n",
       "      <td>3.091042</td>\n",
       "    </tr>\n",
       "    <tr>\n",
       "      <th>262</th>\n",
       "      <td>tomwhore@slack.net</td>\n",
       "      <td>3.091042</td>\n",
       "    </tr>\n",
       "    <tr>\n",
       "      <th>243</th>\n",
       "      <td>skip@pobox.com</td>\n",
       "      <td>3.044522</td>\n",
       "    </tr>\n",
       "  </tbody>\n",
       "</table>\n",
       "</div>"
      ],
      "text/plain": [
       "                    from    weight\n",
       "259  tim.one@comcast.net  3.610918\n",
       "19    beberg@mithral.com  3.178054\n",
       "171    matthias@egwn.net  3.091042\n",
       "262   tomwhore@slack.net  3.091042\n",
       "243       skip@pobox.com  3.044522"
      ]
     },
     "execution_count": 389,
     "metadata": {},
     "output_type": "execute_result"
    }
   ],
   "source": [
    "from_weight.sort_values('weight', ascending=False).head()"
   ]
  },
  {
   "cell_type": "markdown",
   "metadata": {},
   "source": [
    "### Weights from thread analysis\n",
    "Now, we will generate weights matrices for thread activity in the emails. From threads, we will generate three weights matrices, the first being weights from sender information in threads.\n",
    "#### Weights from sender in threads\n",
    "In this weighting scheme, we will apply the same method as from weight to obtain the weights of frequent senders in threads."
   ]
  },
  {
   "cell_type": "markdown",
   "metadata": {},
   "source": [
    "First of all, we will determine which of the emails are threads. We can do this by checking if the email subject contains the expression `re: `. Then, we can split the full subject `re: {subject}` to obtain the `{subject}` only part."
   ]
  },
  {
   "cell_type": "code",
   "execution_count": 26,
   "metadata": {},
   "outputs": [],
   "source": [
    "is_thread = priority_train.subject.str.contains('re: ')"
   ]
  },
  {
   "cell_type": "code",
   "execution_count": 27,
   "metadata": {},
   "outputs": [],
   "source": [
    "threads = priority_train[is_thread]\n",
    "re_subject_split = threads.subject.str.split('re: ')"
   ]
  },
  {
   "cell_type": "markdown",
   "metadata": {},
   "source": [
    "We obtain the list of senders in threads by passing the is_thread variable to our priority_train dataframe."
   ]
  },
  {
   "cell_type": "code",
   "execution_count": 28,
   "metadata": {},
   "outputs": [],
   "source": [
    "sender_thread = priority_train['from'][is_thread]"
   ]
  },
  {
   "cell_type": "markdown",
   "metadata": {},
   "source": [
    "We, then, extract the subject only part and append them to a response list."
   ]
  },
  {
   "cell_type": "code",
   "execution_count": 29,
   "metadata": {},
   "outputs": [],
   "source": [
    "response_thread = []\n",
    "for split_subj in re_subject_split:\n",
    "    response_thread.append(split_subj[1])"
   ]
  },
  {
   "cell_type": "code",
   "execution_count": 30,
   "metadata": {},
   "outputs": [],
   "source": [
    "sender_thread = list(sender_thread)"
   ]
  },
  {
   "cell_type": "markdown",
   "metadata": {},
   "source": [
    "We then obtain a dataframe with the list of senders active in each thread activity."
   ]
  },
  {
   "cell_type": "code",
   "execution_count": 31,
   "metadata": {},
   "outputs": [],
   "source": [
    "thread_matrix = pd.DataFrame([sender_thread, response_thread])"
   ]
  },
  {
   "cell_type": "markdown",
   "metadata": {},
   "source": [
    "Now, to obtain the senders weight matrix, we take the list of senders and count their frequency. As before, we apply log transformation to smooth out the result."
   ]
  },
  {
   "cell_type": "code",
   "execution_count": 32,
   "metadata": {},
   "outputs": [],
   "source": [
    "senders = thread_matrix.iloc[0, :]\n",
    "senders_freq = senders.groupby(senders).count()"
   ]
  },
  {
   "cell_type": "code",
   "execution_count": 33,
   "metadata": {},
   "outputs": [],
   "source": [
    "senders_wt = senders_freq.transform(lambda x: pd.np.log(x+1))"
   ]
  },
  {
   "cell_type": "markdown",
   "metadata": {},
   "source": [
    "Let's create a dictionary with all the values, and use it to obtain out senders weight dataframe."
   ]
  },
  {
   "cell_type": "code",
   "execution_count": 34,
   "metadata": {},
   "outputs": [],
   "source": [
    "senders_dict = {\n",
    "    'from': senders_freq.index.tolist(),\n",
    "    'freq': list(senders_freq.values),\n",
    "    'weight': list(senders_wt)\n",
    "}"
   ]
  },
  {
   "cell_type": "code",
   "execution_count": 307,
   "metadata": {},
   "outputs": [],
   "source": [
    "senders_weight = pd.DataFrame(senders_dict)"
   ]
  },
  {
   "cell_type": "markdown",
   "metadata": {},
   "source": [
    "The senders weight matrix contains the senders list with respective weight assigned to each user."
   ]
  },
  {
   "cell_type": "code",
   "execution_count": 308,
   "metadata": {},
   "outputs": [
    {
     "data": {
      "text/html": [
       "<div>\n",
       "<style scoped>\n",
       "    .dataframe tbody tr th:only-of-type {\n",
       "        vertical-align: middle;\n",
       "    }\n",
       "\n",
       "    .dataframe tbody tr th {\n",
       "        vertical-align: top;\n",
       "    }\n",
       "\n",
       "    .dataframe thead th {\n",
       "        text-align: right;\n",
       "    }\n",
       "</style>\n",
       "<table border=\"1\" class=\"dataframe\">\n",
       "  <thead>\n",
       "    <tr style=\"text-align: right;\">\n",
       "      <th></th>\n",
       "      <th>from</th>\n",
       "      <th>freq</th>\n",
       "      <th>weight</th>\n",
       "    </tr>\n",
       "  </thead>\n",
       "  <tbody>\n",
       "    <tr>\n",
       "      <th>0</th>\n",
       "      <td>adam@homeport.org</td>\n",
       "      <td>1</td>\n",
       "      <td>0.693147</td>\n",
       "    </tr>\n",
       "    <tr>\n",
       "      <th>1</th>\n",
       "      <td>aeriksson@fastmail.fm</td>\n",
       "      <td>5</td>\n",
       "      <td>1.791759</td>\n",
       "    </tr>\n",
       "    <tr>\n",
       "      <th>2</th>\n",
       "      <td>albert.white@ireland.sun.com</td>\n",
       "      <td>1</td>\n",
       "      <td>0.693147</td>\n",
       "    </tr>\n",
       "    <tr>\n",
       "      <th>3</th>\n",
       "      <td>andr@sandy.ru</td>\n",
       "      <td>1</td>\n",
       "      <td>0.693147</td>\n",
       "    </tr>\n",
       "    <tr>\n",
       "      <th>4</th>\n",
       "      <td>andris@aernet.ru</td>\n",
       "      <td>1</td>\n",
       "      <td>0.693147</td>\n",
       "    </tr>\n",
       "  </tbody>\n",
       "</table>\n",
       "</div>"
      ],
      "text/plain": [
       "                           from  freq    weight\n",
       "0             adam@homeport.org     1  0.693147\n",
       "1         aeriksson@fastmail.fm     5  1.791759\n",
       "2  albert.white@ireland.sun.com     1  0.693147\n",
       "3                 andr@sandy.ru     1  0.693147\n",
       "4              andris@aernet.ru     1  0.693147"
      ]
     },
     "execution_count": 308,
     "metadata": {},
     "output_type": "execute_result"
    }
   ],
   "source": [
    "senders_weight.head()"
   ]
  },
  {
   "cell_type": "markdown",
   "metadata": {},
   "source": [
    "#### Weights from thread subjects and thread activity\n",
    "In this weighting scheme, we will determine the frequently active threads and assign weights to each thread on the basis of thread activity.\n",
    "First, let's extract thread subjects from thread matrix."
   ]
  },
  {
   "cell_type": "code",
   "execution_count": 37,
   "metadata": {},
   "outputs": [],
   "source": [
    "threads_sub = thread_matrix.iloc[1, :].unique()"
   ]
  },
  {
   "cell_type": "markdown",
   "metadata": {},
   "source": [
    "Now, let's create a dataframe to store the thread weights. To determine the weight of the thread we look at two things. The first being the thread frequency i.e how frequently the thread occur in the training dataset. For this we obtain the dates of the emails, which contain the thread subject, either the subject only or the replied email i.e `re: subject`. Then, counting the number of results we can obtain the thread frequency.\n",
    "\n",
    "Secondly, we check the time span of the emails in the threads. For this, we subtract the minimum value of the date from the maximum value, and obtain the number of seconds for each thread.\n",
    "\n",
    "And, finally, we generate the weights from the above information. In this case, we obtain weight as `weight = frequency/time` as we want to find how much thread activity is there in each second. The weight is 1 when an email is sent every second. \n",
    "\n",
    "Usually, the time span is much larger than the thread frequency. And, we obtain negative weights after applying log. So, we will apply `affine transformation` to the weights to make sure that the weights obtained are positive. For this, we apply log (base-10) to every weight and add 10 to it. This ensures that the weights remain positive."
   ]
  },
  {
   "cell_type": "markdown",
   "metadata": {},
   "source": [
    "Here, the if condition checks the frequency. If a thread occurs only once, then it's not useful to us for thread analysis. So, we append NaN to all thread weights in which thread occurs only once. Otherwise, we apply above calculations."
   ]
  },
  {
   "cell_type": "code",
   "execution_count": 95,
   "metadata": {},
   "outputs": [
    {
     "name": "stdout",
     "output_type": "stream",
     "text": [
      "0\n"
     ]
    }
   ],
   "source": [
    "thread_counts = pd.DataFrame(data=[], columns=['freq', 'time_span', 'weight'])\n",
    "\n",
    "for thread in threads_sub:\n",
    "    thread_times = priority_train.index[priority_train.subject.str.contains(thread, regex=False) | priority_train.subject.str.contains('re: ' + thread, regex=False)]\n",
    "    thread_freq = len(thread_times)\n",
    "    min_time = thread_times.min()\n",
    "    max_time = thread_times.max()\n",
    "    time_span = (max_time - min_time).seconds\n",
    "    if thread_freq<2:\n",
    "        thread_counts = thread_counts.append({\n",
    "            'freq': np.nan,\n",
    "            'time_span': np.nan,\n",
    "            'weight': np.nan,\n",
    "        }, ignore_index=True)\n",
    "    else:\n",
    "        weight = thread_freq / time_span\n",
    "        log_weight = 10 + np.log10(weight)\n",
    "        thread_counts = thread_counts.append({\n",
    "            'freq': thread_freq,\n",
    "            'time_span': time_span,\n",
    "            'weight': log_weight,\n",
    "        }, ignore_index=True)"
   ]
  },
  {
   "cell_type": "code",
   "execution_count": 39,
   "metadata": {},
   "outputs": [],
   "source": [
    "thread_weights = thread_counts\n",
    "thread_weights['thread'] = threads_sub"
   ]
  },
  {
   "cell_type": "markdown",
   "metadata": {},
   "source": [
    "Then, we drop all NaN values to clean the data. Finally, we obtain the thread_weights dataframe containing all thread list with respective frequency, time span and weight. "
   ]
  },
  {
   "cell_type": "code",
   "execution_count": 41,
   "metadata": {},
   "outputs": [],
   "source": [
    "thread_weights = thread_weights.dropna()"
   ]
  },
  {
   "cell_type": "code",
   "execution_count": 200,
   "metadata": {},
   "outputs": [
    {
     "data": {
      "text/html": [
       "<div>\n",
       "<style scoped>\n",
       "    .dataframe tbody tr th:only-of-type {\n",
       "        vertical-align: middle;\n",
       "    }\n",
       "\n",
       "    .dataframe tbody tr th {\n",
       "        vertical-align: top;\n",
       "    }\n",
       "\n",
       "    .dataframe thead th {\n",
       "        text-align: right;\n",
       "    }\n",
       "</style>\n",
       "<table border=\"1\" class=\"dataframe\">\n",
       "  <thead>\n",
       "    <tr style=\"text-align: right;\">\n",
       "      <th></th>\n",
       "      <th>freq</th>\n",
       "      <th>time_span</th>\n",
       "      <th>weight</th>\n",
       "      <th>thread</th>\n",
       "    </tr>\n",
       "  </thead>\n",
       "  <tbody>\n",
       "    <tr>\n",
       "      <th>0</th>\n",
       "      <td>3.0</td>\n",
       "      <td>9342.0</td>\n",
       "      <td>6.506681</td>\n",
       "      <td>please help a newbie compile mplayer :-)</td>\n",
       "    </tr>\n",
       "    <tr>\n",
       "      <th>1</th>\n",
       "      <td>10.0</td>\n",
       "      <td>6103.0</td>\n",
       "      <td>7.214457</td>\n",
       "      <td>http://apt.nixia.no/</td>\n",
       "    </tr>\n",
       "    <tr>\n",
       "      <th>2</th>\n",
       "      <td>4.0</td>\n",
       "      <td>12114.0</td>\n",
       "      <td>6.518772</td>\n",
       "      <td>prob. w/ install/uninstall</td>\n",
       "    </tr>\n",
       "    <tr>\n",
       "      <th>3</th>\n",
       "      <td>3.0</td>\n",
       "      <td>38104.0</td>\n",
       "      <td>5.896151</td>\n",
       "      <td>problems with 'apt-get -f install'</td>\n",
       "    </tr>\n",
       "    <tr>\n",
       "      <th>4</th>\n",
       "      <td>2.0</td>\n",
       "      <td>49547.0</td>\n",
       "      <td>5.606013</td>\n",
       "      <td>problems with apt update</td>\n",
       "    </tr>\n",
       "  </tbody>\n",
       "</table>\n",
       "</div>"
      ],
      "text/plain": [
       "   freq  time_span    weight                                    thread\n",
       "0   3.0     9342.0  6.506681  please help a newbie compile mplayer :-)\n",
       "1  10.0     6103.0  7.214457                      http://apt.nixia.no/\n",
       "2   4.0    12114.0  6.518772                prob. w/ install/uninstall\n",
       "3   3.0    38104.0  5.896151        problems with 'apt-get -f install'\n",
       "4   2.0    49547.0  5.606013                  problems with apt update"
      ]
     },
     "execution_count": 200,
     "metadata": {},
     "output_type": "execute_result"
    }
   ],
   "source": [
    "thread_weights.head()"
   ]
  },
  {
   "cell_type": "markdown",
   "metadata": {},
   "source": [
    "#### Weights from frequent terms in thread subject\n",
    "In this weighting scheme, we extract the frequent terms present in the thread subjects. To extract the terms, we will use the `CountVectorizer` from `sklearn`. The stopwords are supplied from the nltk corpus.\n",
    "The `CountVectorizer` can be used to fit the thread subjects to generate the term document matrix."
   ]
  },
  {
   "cell_type": "code",
   "execution_count": 108,
   "metadata": {},
   "outputs": [],
   "source": [
    "# Uncomment if error occurs\n",
    "# nltk.download('stopwords')\n",
    "vec = CountVectorizer(encoding='latin1', stop_words=nltk.corpus.stopwords.words('english'))\n",
    "thread_term_vector = vec.fit_transform(thread_weights.thread)"
   ]
  },
  {
   "cell_type": "markdown",
   "metadata": {},
   "source": [
    "The term document matrix consists of all the terms obtained from the threads subjects and their frequency."
   ]
  },
  {
   "cell_type": "code",
   "execution_count": 130,
   "metadata": {},
   "outputs": [],
   "source": [
    "thread_tdm = pd.DataFrame(thread_term_vector.toarray(), columns=vec.get_feature_names())"
   ]
  },
  {
   "cell_type": "markdown",
   "metadata": {},
   "source": [
    "Using the frequent terms from the term document matrix, we can obtain the term weights. We check for the term in each thread and take the mean of all the thread weights which contain that term. This mean will be the weight for that term."
   ]
  },
  {
   "cell_type": "code",
   "execution_count": 139,
   "metadata": {},
   "outputs": [],
   "source": [
    "term_weights = []\n",
    "for term in thread_tdm.columns:\n",
    "    weight = thread_weights.weight[thread_weights.thread.str.contains(term, regex=False)].mean()\n",
    "    term_weights.append(weight)"
   ]
  },
  {
   "cell_type": "code",
   "execution_count": 140,
   "metadata": {},
   "outputs": [],
   "source": [
    "thread_term_weights = pd.DataFrame.from_dict({\n",
    "    'term': thread_tdm.columns,\n",
    "    'weight': term_weights\n",
    "})"
   ]
  },
  {
   "cell_type": "markdown",
   "metadata": {},
   "source": [
    "From above dictionary, we obtain the dataframe for the weights for the thread terms. Some, of the least used terms are below."
   ]
  },
  {
   "cell_type": "code",
   "execution_count": 261,
   "metadata": {},
   "outputs": [
    {
     "data": {
      "text/html": [
       "<div>\n",
       "<style scoped>\n",
       "    .dataframe tbody tr th:only-of-type {\n",
       "        vertical-align: middle;\n",
       "    }\n",
       "\n",
       "    .dataframe tbody tr th {\n",
       "        vertical-align: top;\n",
       "    }\n",
       "\n",
       "    .dataframe thead th {\n",
       "        text-align: right;\n",
       "    }\n",
       "</style>\n",
       "<table border=\"1\" class=\"dataframe\">\n",
       "  <thead>\n",
       "    <tr style=\"text-align: right;\">\n",
       "      <th></th>\n",
       "      <th>term</th>\n",
       "      <th>weight</th>\n",
       "    </tr>\n",
       "  </thead>\n",
       "  <tbody>\n",
       "    <tr>\n",
       "      <th>226</th>\n",
       "      <td>postfix</td>\n",
       "      <td>5.412918</td>\n",
       "    </tr>\n",
       "    <tr>\n",
       "      <th>287</th>\n",
       "      <td>source</td>\n",
       "      <td>5.424068</td>\n",
       "    </tr>\n",
       "    <tr>\n",
       "      <th>200</th>\n",
       "      <td>notes</td>\n",
       "      <td>5.438219</td>\n",
       "    </tr>\n",
       "    <tr>\n",
       "      <th>168</th>\n",
       "      <td>lotus</td>\n",
       "      <td>5.438219</td>\n",
       "    </tr>\n",
       "    <tr>\n",
       "      <th>245</th>\n",
       "      <td>recreations</td>\n",
       "      <td>5.543614</td>\n",
       "    </tr>\n",
       "  </tbody>\n",
       "</table>\n",
       "</div>"
      ],
      "text/plain": [
       "            term    weight\n",
       "226      postfix  5.412918\n",
       "287       source  5.424068\n",
       "200        notes  5.438219\n",
       "168        lotus  5.438219\n",
       "245  recreations  5.543614"
      ]
     },
     "execution_count": 261,
     "metadata": {},
     "output_type": "execute_result"
    }
   ],
   "source": [
    "thread_term_weights.sort_values('weight', ascending=True).head()"
   ]
  },
  {
   "cell_type": "markdown",
   "metadata": {},
   "source": [
    "Similarly, if we check the terms with highest we obtain the following terms. All the following terms belong to a single email thread outlier."
   ]
  },
  {
   "cell_type": "code",
   "execution_count": 643,
   "metadata": {},
   "outputs": [
    {
     "data": {
      "text/html": [
       "<div>\n",
       "<style scoped>\n",
       "    .dataframe tbody tr th:only-of-type {\n",
       "        vertical-align: middle;\n",
       "    }\n",
       "\n",
       "    .dataframe tbody tr th {\n",
       "        vertical-align: top;\n",
       "    }\n",
       "\n",
       "    .dataframe thead th {\n",
       "        text-align: right;\n",
       "    }\n",
       "</style>\n",
       "<table border=\"1\" class=\"dataframe\">\n",
       "  <thead>\n",
       "    <tr style=\"text-align: right;\">\n",
       "      <th></th>\n",
       "      <th>term</th>\n",
       "      <th>weight</th>\n",
       "    </tr>\n",
       "  </thead>\n",
       "  <tbody>\n",
       "    <tr>\n",
       "      <th>251</th>\n",
       "      <td>removal</td>\n",
       "      <td>9.69897</td>\n",
       "    </tr>\n",
       "    <tr>\n",
       "      <th>33</th>\n",
       "      <td>bug</td>\n",
       "      <td>9.69897</td>\n",
       "    </tr>\n",
       "    <tr>\n",
       "      <th>5</th>\n",
       "      <td>840</td>\n",
       "      <td>9.69897</td>\n",
       "    </tr>\n",
       "    <tr>\n",
       "      <th>289</th>\n",
       "      <td>spam_level_char</td>\n",
       "      <td>9.69897</td>\n",
       "    </tr>\n",
       "    <tr>\n",
       "      <th>207</th>\n",
       "      <td>option</td>\n",
       "      <td>9.69897</td>\n",
       "    </tr>\n",
       "  </tbody>\n",
       "</table>\n",
       "</div>"
      ],
      "text/plain": [
       "                term   weight\n",
       "251          removal  9.69897\n",
       "33               bug  9.69897\n",
       "5                840  9.69897\n",
       "289  spam_level_char  9.69897\n",
       "207           option  9.69897"
      ]
     },
     "execution_count": 643,
     "metadata": {},
     "output_type": "execute_result"
    }
   ],
   "source": [
    "thread_term_weights.sort_values('weight', ascending=False).head()"
   ]
  },
  {
   "cell_type": "markdown",
   "metadata": {},
   "source": [
    "From below, you can see that there are two emails in this thread and the time span is only 4 seconds, which means that someone replied to the email 4 seconds after it was sent. Because of this, the weight obtained is high and since all terms take mean of a single weight, their weights are also high. This type of email could have been generated by a server."
   ]
  },
  {
   "cell_type": "code",
   "execution_count": 644,
   "metadata": {},
   "outputs": [
    {
     "data": {
      "text/html": [
       "<div>\n",
       "<style scoped>\n",
       "    .dataframe tbody tr th:only-of-type {\n",
       "        vertical-align: middle;\n",
       "    }\n",
       "\n",
       "    .dataframe tbody tr th {\n",
       "        vertical-align: top;\n",
       "    }\n",
       "\n",
       "    .dataframe thead th {\n",
       "        text-align: right;\n",
       "    }\n",
       "</style>\n",
       "<table border=\"1\" class=\"dataframe\">\n",
       "  <thead>\n",
       "    <tr style=\"text-align: right;\">\n",
       "      <th></th>\n",
       "      <th>freq</th>\n",
       "      <th>time_span</th>\n",
       "      <th>weight</th>\n",
       "      <th>thread</th>\n",
       "    </tr>\n",
       "  </thead>\n",
       "  <tbody>\n",
       "    <tr>\n",
       "      <th>193</th>\n",
       "      <td>2.0</td>\n",
       "      <td>4.0</td>\n",
       "      <td>9.69897</td>\n",
       "      <td>[sadev] [bug 840] spam_level_char option chang...</td>\n",
       "    </tr>\n",
       "  </tbody>\n",
       "</table>\n",
       "</div>"
      ],
      "text/plain": [
       "     freq  time_span   weight  \\\n",
       "193   2.0        4.0  9.69897   \n",
       "\n",
       "                                                thread  \n",
       "193  [sadev] [bug 840] spam_level_char option chang...  "
      ]
     },
     "execution_count": 644,
     "metadata": {},
     "output_type": "execute_result"
    }
   ],
   "source": [
    "thread_weights[thread_weights.thread.str.contains('spam_level_char')]"
   ]
  },
  {
   "cell_type": "markdown",
   "metadata": {},
   "source": [
    "Now, we have completed our thread analysis and we continue to our final weighting techinque."
   ]
  },
  {
   "cell_type": "markdown",
   "metadata": {},
   "source": [
    "### Weights from frequent terms in messages\n",
    "In this weighting scheme, we generate frequent terms from the whole message content. As above, we feed the message contents from our training dataset to our `CountVectorizer` which will generate the term document matrix for our email messages."
   ]
  },
  {
   "cell_type": "code",
   "execution_count": 250,
   "metadata": {},
   "outputs": [],
   "source": [
    "# TODO: Strip message of punctuations and numbers before extracting terms\n",
    "msg_terms = vec.fit_transform(priority_train.message)"
   ]
  },
  {
   "cell_type": "code",
   "execution_count": 251,
   "metadata": {},
   "outputs": [],
   "source": [
    "msg_tdm = pd.DataFrame(msg_terms.toarray(), columns=vec.get_feature_names())"
   ]
  },
  {
   "cell_type": "markdown",
   "metadata": {},
   "source": [
    "We generate the message term weights dataframe with the terms from the term document matrix and term weights as the natural log of the frequency of each term."
   ]
  },
  {
   "cell_type": "code",
   "execution_count": 252,
   "metadata": {},
   "outputs": [],
   "source": [
    "msg_term_weights = pd.DataFrame.from_dict({\n",
    "    'term': msg_tdm.columns,\n",
    "    'weight': np.log(msg_tdm.sum()),\n",
    "})\n",
    "msg_term_weights.index = range(msg_term_weights.shape[0])"
   ]
  },
  {
   "cell_type": "markdown",
   "metadata": {},
   "source": [
    "Now, we remove all terms with zero weights."
   ]
  },
  {
   "cell_type": "code",
   "execution_count": 253,
   "metadata": {},
   "outputs": [],
   "source": [
    "msg_term_weights = msg_term_weights[msg_term_weights.weight > 0]"
   ]
  },
  {
   "cell_type": "markdown",
   "metadata": {},
   "source": [
    "The final weight matrix for our algorithm has been obtained. Now, we can start working on our algorithm."
   ]
  },
  {
   "cell_type": "code",
   "execution_count": 259,
   "metadata": {},
   "outputs": [
    {
     "data": {
      "text/html": [
       "<div>\n",
       "<style scoped>\n",
       "    .dataframe tbody tr th:only-of-type {\n",
       "        vertical-align: middle;\n",
       "    }\n",
       "\n",
       "    .dataframe tbody tr th {\n",
       "        vertical-align: top;\n",
       "    }\n",
       "\n",
       "    .dataframe thead th {\n",
       "        text-align: right;\n",
       "    }\n",
       "</style>\n",
       "<table border=\"1\" class=\"dataframe\">\n",
       "  <thead>\n",
       "    <tr style=\"text-align: right;\">\n",
       "      <th></th>\n",
       "      <th>term</th>\n",
       "      <th>weight</th>\n",
       "    </tr>\n",
       "  </thead>\n",
       "  <tbody>\n",
       "    <tr>\n",
       "      <th>3583</th>\n",
       "      <td>com</td>\n",
       "      <td>7.192934</td>\n",
       "    </tr>\n",
       "    <tr>\n",
       "      <th>7350</th>\n",
       "      <td>http</td>\n",
       "      <td>7.078342</td>\n",
       "    </tr>\n",
       "    <tr>\n",
       "      <th>9800</th>\n",
       "      <td>net</td>\n",
       "      <td>6.916715</td>\n",
       "    </tr>\n",
       "    <tr>\n",
       "      <th>8666</th>\n",
       "      <td>list</td>\n",
       "      <td>6.836259</td>\n",
       "    </tr>\n",
       "    <tr>\n",
       "      <th>8680</th>\n",
       "      <td>lists</td>\n",
       "      <td>6.568078</td>\n",
       "    </tr>\n",
       "  </tbody>\n",
       "</table>\n",
       "</div>"
      ],
      "text/plain": [
       "       term    weight\n",
       "3583    com  7.192934\n",
       "7350   http  7.078342\n",
       "9800    net  6.916715\n",
       "8666   list  6.836259\n",
       "8680  lists  6.568078"
      ]
     },
     "execution_count": 259,
     "metadata": {},
     "output_type": "execute_result"
    }
   ],
   "source": [
    "msg_term_weights.sort_values('weight', ascending=False).head()"
   ]
  },
  {
   "cell_type": "markdown",
   "metadata": {},
   "source": [
    "## Training the Algorithm\n",
    "Now, we need to train our dataset with the obtained weight matrices to obtain the rank. The rank is obtained as the product of all the weight values from each weight matrix.\n",
    "\n",
    "For this, we start with defining a function `get_weights()` to obtain the weights for terms in email if they do not map to a single term weight matrix. This is requred in cases when the email contains new terms which do not exist in our term weight matrices.\n",
    "\n",
    "In this function, we try to obtain weights for the thread terms. The parameter `term` determines if we are looking for weight from the thread_weights matrix or from term_weights matrix.\n",
    "\n",
    "For thread, `term=False`, and the thread subject is matched with previously available threads and the mean of the matched weights is returned.\n",
    "\n",
    "For term list, `term=True`, and each term from the list is compared with one in the term matrix, then every term's result is OR'ed with the previous result to obtain the final match. Then, the mean of the matched weights is returned.\n",
    "\n",
    "If no match is found for either, a weight of 1 is returned as it doesn't alter the weight product."
   ]
  },
  {
   "cell_type": "code",
   "execution_count": 457,
   "metadata": {},
   "outputs": [],
   "source": [
    "def get_weights(search_term, weight_df, term=True):\n",
    "    search_term = str(search_term)\n",
    "    if (len(search_term)>0):\n",
    "        if term:\n",
    "            term_match = False\n",
    "            for search_item in search_term:\n",
    "                match = weight_df.term.str.contains(search_item, regex=False)\n",
    "                term_match = term_match | match\n",
    "        else:\n",
    "            term_match = weight_df.thread.str.contains(search_term, regex=False)\n",
    "        \n",
    "        match_weights = weight_df.weight[term_match]\n",
    "        if len(match_weights)<1:\n",
    "            return 1\n",
    "        else:\n",
    "            return match_weights.mean()\n",
    "    else:\n",
    "        return 1"
   ]
  },
  {
   "cell_type": "markdown",
   "metadata": {},
   "source": [
    "The main step of our Algorithm is the `rank_message()` function which generates the rank for each email message.\n",
    "\n",
    "In this function, the weights from each weight matrix is obtained for the email message passed to the function. The final rank is calculated as the product of all five weights.\n",
    "\n",
    "This function returns a list containing the email's date, email's sender, it's subject and the generated rank of the email."
   ]
  },
  {
   "cell_type": "code",
   "execution_count": 615,
   "metadata": {},
   "outputs": [],
   "source": [
    "# TODO: Increase efficiency\n",
    "def rank_message(msg):\n",
    "    # First, using the from weights\n",
    "    from_wt = from_weight[from_weight['from']==msg['from']]\n",
    "    if len(from_wt)>0:\n",
    "        msg_from_wt = from_wt.weight\n",
    "    else:\n",
    "        msg_from_wt = 1\n",
    "    \n",
    "    # Second, using senders weights from threads\n",
    "    senders_wt = senders_weight[senders_weight['from']==msg['from']]\n",
    "    if len(senders_wt)>0:\n",
    "        msg_thread_from_wt = senders_wt.weight\n",
    "    else:\n",
    "        msg_thread_from_wt = 1\n",
    "        \n",
    "    # Then, from thread activity\n",
    "    is_thread = len(msg.subject.split('re: ')) > 1\n",
    "    if is_thread:\n",
    "        subject = msg.subject.split('re: ')[1]\n",
    "        msg_thread_activity_wt = get_weights(subject, thread_weights, term=False)\n",
    "    else:\n",
    "        msg_thread_activity_wt = 1\n",
    "        \n",
    "    # Then, weights based on terms in threads\n",
    "    try:\n",
    "        sub_vec = vec.fit_transform([msg['subject']])\n",
    "        msg_thread_terms = vec.get_feature_names()\n",
    "        msg_thread_term_wt = get_weights(msg_thread_terms, thread_term_weights)\n",
    "    except:\n",
    "        # Some subjects from the test set result in empty vocabulary\n",
    "        msg_thread_term_wt = 1\n",
    "    \n",
    "    # Then, weights based on terms in message\n",
    "    try:\n",
    "        msg_vec = vec.fit_transform([msg['message']])\n",
    "        msg_terms = vec.get_feature_names()\n",
    "        msg_terms_wt = get_weights(msg_terms, msg_term_weights)\n",
    "    except:\n",
    "        # Some subjects from the test set result in empty vocabulary\n",
    "        msg_terms_wt = 1\n",
    "    \n",
    "    # Calculating Rank\n",
    "    rank = float(msg_from_wt) * float(msg_thread_from_wt) * float(msg_thread_activity_wt) * float(msg_thread_term_wt) * float(msg_terms_wt)\n",
    "    \n",
    "    return [msg.name, msg['from'], msg['subject'], rank]"
   ]
  },
  {
   "cell_type": "markdown",
   "metadata": {},
   "source": [
    "### Training on training set\n",
    "rank_dict dictionary is created to store the values of the rank dataframe for each iteration. An email from the priority_train training set is fed to the `rank_message()` function which returns the list with the email rank, which is appended to the rank_dict dictionary."
   ]
  },
  {
   "cell_type": "code",
   "execution_count": 559,
   "metadata": {},
   "outputs": [],
   "source": [
    "rank_dict = {\n",
    "    'date': [],\n",
    "    'from': [],\n",
    "    'subject': [],\n",
    "    'rank': []\n",
    "}\n",
    "\n",
    "for i in range(priority_train.shape[0]):\n",
    "    result = rank_message(priority_train.iloc[i, :])\n",
    "    rank_dict['date'].append(result[0])\n",
    "    rank_dict['from'].append(result[1])\n",
    "    rank_dict['subject'].append(result[2])\n",
    "    rank_dict['rank'].append(result[3])"
   ]
  },
  {
   "cell_type": "markdown",
   "metadata": {},
   "source": [
    "The rank_df dataframe is obtained from the dictionary which contains the generated rank of each email message."
   ]
  },
  {
   "cell_type": "code",
   "execution_count": 561,
   "metadata": {},
   "outputs": [],
   "source": [
    "rank_df = pd.DataFrame.from_dict(rank_dict)"
   ]
  },
  {
   "cell_type": "markdown",
   "metadata": {},
   "source": [
    "Now, we need a threshold to determine if an email should be prioritized or not. In this algorithm, we will use the median of the generated ranks, but we can also use other metrics."
   ]
  },
  {
   "cell_type": "code",
   "execution_count": 645,
   "metadata": {},
   "outputs": [
    {
     "name": "stdout",
     "output_type": "stream",
     "text": [
      "54.82322210358363\n"
     ]
    }
   ],
   "source": [
    "priority_threshold = rank_df['rank'].median()\n",
    "print(priority_threshold)"
   ]
  },
  {
   "cell_type": "markdown",
   "metadata": {},
   "source": [
    "A message is prioritized only if it's rank is higher than the priority threshold."
   ]
  },
  {
   "cell_type": "code",
   "execution_count": 565,
   "metadata": {},
   "outputs": [],
   "source": [
    "rank_df['priority'] = rank_df['rank'] > priority_threshold"
   ]
  },
  {
   "cell_type": "markdown",
   "metadata": {},
   "source": [
    "Let's checkout some of the rank generated by our algorithm in the training set."
   ]
  },
  {
   "cell_type": "code",
   "execution_count": 567,
   "metadata": {},
   "outputs": [
    {
     "data": {
      "text/html": [
       "<div>\n",
       "<style scoped>\n",
       "    .dataframe tbody tr th:only-of-type {\n",
       "        vertical-align: middle;\n",
       "    }\n",
       "\n",
       "    .dataframe tbody tr th {\n",
       "        vertical-align: top;\n",
       "    }\n",
       "\n",
       "    .dataframe thead th {\n",
       "        text-align: right;\n",
       "    }\n",
       "</style>\n",
       "<table border=\"1\" class=\"dataframe\">\n",
       "  <thead>\n",
       "    <tr style=\"text-align: right;\">\n",
       "      <th></th>\n",
       "      <th>date</th>\n",
       "      <th>from</th>\n",
       "      <th>subject</th>\n",
       "      <th>rank</th>\n",
       "      <th>priority</th>\n",
       "    </tr>\n",
       "  </thead>\n",
       "  <tbody>\n",
       "    <tr>\n",
       "      <th>0</th>\n",
       "      <td>2002-02-01 06:53:41</td>\n",
       "      <td>lance_tt@bellsouth.net</td>\n",
       "      <td>re: please help a newbie compile mplayer :-)</td>\n",
       "      <td>387.937501</td>\n",
       "      <td>True</td>\n",
       "    </tr>\n",
       "    <tr>\n",
       "      <th>1</th>\n",
       "      <td>2002-02-01 09:01:44</td>\n",
       "      <td>robinderbains@shaw.ca</td>\n",
       "      <td>re: please help a newbie compile mplayer :-)</td>\n",
       "      <td>35.150163</td>\n",
       "      <td>False</td>\n",
       "    </tr>\n",
       "    <tr>\n",
       "      <th>2</th>\n",
       "      <td>2002-02-01 09:29:23</td>\n",
       "      <td>matthias@egwn.net</td>\n",
       "      <td>re: please help a newbie compile mplayer :-)</td>\n",
       "      <td>699.140882</td>\n",
       "      <td>True</td>\n",
       "    </tr>\n",
       "    <tr>\n",
       "      <th>3</th>\n",
       "      <td>2002-02-01 13:00:22</td>\n",
       "      <td>harri.haataja@cs.helsinki.fi</td>\n",
       "      <td>http://apt.nixia.no/</td>\n",
       "      <td>57.021220</td>\n",
       "      <td>True</td>\n",
       "    </tr>\n",
       "    <tr>\n",
       "      <th>4</th>\n",
       "      <td>2002-02-01 14:35:41</td>\n",
       "      <td>matthias@egwn.net</td>\n",
       "      <td>re: http://apt.nixia.no/</td>\n",
       "      <td>777.017481</td>\n",
       "      <td>True</td>\n",
       "    </tr>\n",
       "  </tbody>\n",
       "</table>\n",
       "</div>"
      ],
      "text/plain": [
       "                 date                          from  \\\n",
       "0 2002-02-01 06:53:41        lance_tt@bellsouth.net   \n",
       "1 2002-02-01 09:01:44         robinderbains@shaw.ca   \n",
       "2 2002-02-01 09:29:23             matthias@egwn.net   \n",
       "3 2002-02-01 13:00:22  harri.haataja@cs.helsinki.fi   \n",
       "4 2002-02-01 14:35:41             matthias@egwn.net   \n",
       "\n",
       "                                        subject        rank  priority  \n",
       "0  re: please help a newbie compile mplayer :-)  387.937501      True  \n",
       "1  re: please help a newbie compile mplayer :-)   35.150163     False  \n",
       "2  re: please help a newbie compile mplayer :-)  699.140882      True  \n",
       "3                          http://apt.nixia.no/   57.021220      True  \n",
       "4                      re: http://apt.nixia.no/  777.017481      True  "
      ]
     },
     "execution_count": 567,
     "metadata": {},
     "output_type": "execute_result"
    }
   ],
   "source": [
    "rank_df.head()"
   ]
  },
  {
   "cell_type": "markdown",
   "metadata": {},
   "source": [
    "The below histogram shows that most of the emails lie in the lower end of the ranks. But still a lot of emails exist in the region greater than the priority_threshold. so, it has labeled many emails as important but still most of the emails are in non important region. So, this should be good."
   ]
  },
  {
   "cell_type": "code",
   "execution_count": 577,
   "metadata": {},
   "outputs": [
    {
     "data": {
      "text/plain": [
       "<matplotlib.axes._subplots.AxesSubplot at 0x15b4a5ff4e0>"
      ]
     },
     "execution_count": 577,
     "metadata": {},
     "output_type": "execute_result"
    },
    {
     "data": {
      "image/png": "[encoded data removed]",
      "text/plain": [
       "<Figure size 432x288 with 1 Axes>"
      ]
     },
     "metadata": {},
     "output_type": "display_data"
    }
   ],
   "source": [
    "rank_df['rank'].plot.hist(bins=50)"
   ]
  },
  {
   "cell_type": "markdown",
   "metadata": {},
   "source": [
    "Similarly, the density plot shows a peak around the region less than the median so maximum of the emails are non prioritized. And, the curve smooths out further to show the density of emails being prioritized."
   ]
  },
  {
   "cell_type": "code",
   "execution_count": 575,
   "metadata": {},
   "outputs": [
    {
     "data": {
      "text/plain": [
       "<matplotlib.axes._subplots.AxesSubplot at 0x15b4a46e668>"
      ]
     },
     "execution_count": 575,
     "metadata": {},
     "output_type": "execute_result"
    },
    {
     "data": {
      "image/png": "[encoded data removed]",
      "text/plain": [
       "<Figure size 432x288 with 1 Axes>"
      ]
     },
     "metadata": {},
     "output_type": "display_data"
    }
   ],
   "source": [
    "rank_df['rank'].plot.density()"
   ]
  },
  {
   "cell_type": "markdown",
   "metadata": {},
   "source": [
    "### Testing on testing set\n",
    "For this, we repeat the steps as for the training dataset. In the testing, we use the weight matrices generated from the training set on emails which are unseen by the weighting algorithms."
   ]
  },
  {
   "cell_type": "code",
   "execution_count": 616,
   "metadata": {},
   "outputs": [],
   "source": [
    "test_rank_dict = {\n",
    "    'date': [],\n",
    "    'from': [],\n",
    "    'subject': [],\n",
    "    'rank': []\n",
    "}\n",
    "\n",
    "for i in range(priority_test.shape[0]):\n",
    "    result = rank_message(priority_test.iloc[i, :])\n",
    "    test_rank_dict['date'].append(result[0])\n",
    "    test_rank_dict['from'].append(result[1])\n",
    "    test_rank_dict['subject'].append(result[2])\n",
    "    test_rank_dict['rank'].append(result[3])"
   ]
  },
  {
   "cell_type": "code",
   "execution_count": 617,
   "metadata": {},
   "outputs": [],
   "source": [
    "test_rank_df = pd.DataFrame.from_dict(test_rank_dict)"
   ]
  },
  {
   "cell_type": "markdown",
   "metadata": {},
   "source": [
    "We obtain the priority_threshold, which is the median, as below."
   ]
  },
  {
   "cell_type": "code",
   "execution_count": 646,
   "metadata": {},
   "outputs": [
    {
     "name": "stdout",
     "output_type": "stream",
     "text": [
      "23.394583730328293\n"
     ]
    }
   ],
   "source": [
    "priority_threshold = test_rank_df['rank'].median()\n",
    "print(priority_threshold)"
   ]
  },
  {
   "cell_type": "code",
   "execution_count": 619,
   "metadata": {},
   "outputs": [],
   "source": [
    "test_rank_df['priority'] = test_rank_df['rank'] > priority_threshold"
   ]
  },
  {
   "cell_type": "markdown",
   "metadata": {},
   "source": [
    "Now, let's observe some of the emails prioritized by our algorithms in the testing dataset. By comparing with the output in the book, the algorithm seems to work decently."
   ]
  },
  {
   "cell_type": "code",
   "execution_count": 638,
   "metadata": {},
   "outputs": [
    {
     "data": {
      "text/html": [
       "<div>\n",
       "<style scoped>\n",
       "    .dataframe tbody tr th:only-of-type {\n",
       "        vertical-align: middle;\n",
       "    }\n",
       "\n",
       "    .dataframe tbody tr th {\n",
       "        vertical-align: top;\n",
       "    }\n",
       "\n",
       "    .dataframe thead th {\n",
       "        text-align: right;\n",
       "    }\n",
       "</style>\n",
       "<table border=\"1\" class=\"dataframe\">\n",
       "  <thead>\n",
       "    <tr style=\"text-align: right;\">\n",
       "      <th></th>\n",
       "      <th>date</th>\n",
       "      <th>from</th>\n",
       "      <th>subject</th>\n",
       "      <th>rank</th>\n",
       "      <th>priority</th>\n",
       "    </tr>\n",
       "  </thead>\n",
       "  <tbody>\n",
       "    <tr>\n",
       "      <th>856</th>\n",
       "      <td>2002-10-08 23:17:04</td>\n",
       "      <td>tomwhore@slack.net</td>\n",
       "      <td>re: the disappearing alliance</td>\n",
       "      <td>96.529462</td>\n",
       "      <td>True</td>\n",
       "    </tr>\n",
       "    <tr>\n",
       "      <th>858</th>\n",
       "      <td>2002-10-09 00:02:08</td>\n",
       "      <td>johnhall@evergo.net</td>\n",
       "      <td>re: the disappearing alliance</td>\n",
       "      <td>41.881995</td>\n",
       "      <td>True</td>\n",
       "    </tr>\n",
       "    <tr>\n",
       "      <th>859</th>\n",
       "      <td>2002-10-09 01:19:49</td>\n",
       "      <td>ejw@cse.ucsc.edu</td>\n",
       "      <td>[nyt] korea's real rage for virtual games</td>\n",
       "      <td>40.042145</td>\n",
       "      <td>True</td>\n",
       "    </tr>\n",
       "    <tr>\n",
       "      <th>860</th>\n",
       "      <td>2002-10-09 02:00:25</td>\n",
       "      <td>pudge@perl.org</td>\n",
       "      <td>[use perl] headlines for 2002-10-09</td>\n",
       "      <td>33.181273</td>\n",
       "      <td>True</td>\n",
       "    </tr>\n",
       "    <tr>\n",
       "      <th>861</th>\n",
       "      <td>2002-10-09 02:00:35</td>\n",
       "      <td>pudge@perl.org</td>\n",
       "      <td>[use perl] stories for 2002-10-09</td>\n",
       "      <td>33.191858</td>\n",
       "      <td>True</td>\n",
       "    </tr>\n",
       "    <tr>\n",
       "      <th>882</th>\n",
       "      <td>2002-10-09 17:23:20</td>\n",
       "      <td>yyyy@example.com</td>\n",
       "      <td>re: [satalk] re: fully-public corpus of mail a...</td>\n",
       "      <td>647.257171</td>\n",
       "      <td>True</td>\n",
       "    </tr>\n",
       "    <tr>\n",
       "      <th>891</th>\n",
       "      <td>2002-10-09 19:58:04</td>\n",
       "      <td>jamesr@best.com</td>\n",
       "      <td>re: the disappearing alliance</td>\n",
       "      <td>54.268548</td>\n",
       "      <td>True</td>\n",
       "    </tr>\n",
       "    <tr>\n",
       "      <th>897</th>\n",
       "      <td>2002-10-10 02:00:35</td>\n",
       "      <td>pudge@perl.org</td>\n",
       "      <td>[use perl] stories for 2002-10-10</td>\n",
       "      <td>33.188456</td>\n",
       "      <td>True</td>\n",
       "    </tr>\n",
       "    <tr>\n",
       "      <th>899</th>\n",
       "      <td>2002-10-10 04:47:02</td>\n",
       "      <td>quinlan@pathname.com</td>\n",
       "      <td>re: [sadev] fully-public corpus of mail available</td>\n",
       "      <td>45.472497</td>\n",
       "      <td>True</td>\n",
       "    </tr>\n",
       "    <tr>\n",
       "      <th>903</th>\n",
       "      <td>2002-10-10 12:14:23</td>\n",
       "      <td>yyyy@example.com</td>\n",
       "      <td>re: [sadev] fully-public corpus of mail availa...</td>\n",
       "      <td>97.305191</td>\n",
       "      <td>True</td>\n",
       "    </tr>\n",
       "  </tbody>\n",
       "</table>\n",
       "</div>"
      ],
      "text/plain": [
       "                   date                  from  \\\n",
       "856 2002-10-08 23:17:04    tomwhore@slack.net   \n",
       "858 2002-10-09 00:02:08   johnhall@evergo.net   \n",
       "859 2002-10-09 01:19:49      ejw@cse.ucsc.edu   \n",
       "860 2002-10-09 02:00:25        pudge@perl.org   \n",
       "861 2002-10-09 02:00:35        pudge@perl.org   \n",
       "882 2002-10-09 17:23:20      yyyy@example.com   \n",
       "891 2002-10-09 19:58:04       jamesr@best.com   \n",
       "897 2002-10-10 02:00:35        pudge@perl.org   \n",
       "899 2002-10-10 04:47:02  quinlan@pathname.com   \n",
       "903 2002-10-10 12:14:23      yyyy@example.com   \n",
       "\n",
       "                                               subject        rank  priority  \n",
       "856                      re: the disappearing alliance   96.529462      True  \n",
       "858                      re: the disappearing alliance   41.881995      True  \n",
       "859          [nyt] korea's real rage for virtual games   40.042145      True  \n",
       "860                [use perl] headlines for 2002-10-09   33.181273      True  \n",
       "861                  [use perl] stories for 2002-10-09   33.191858      True  \n",
       "882  re: [satalk] re: fully-public corpus of mail a...  647.257171      True  \n",
       "891                      re: the disappearing alliance   54.268548      True  \n",
       "897                  [use perl] stories for 2002-10-10   33.188456      True  \n",
       "899  re: [sadev] fully-public corpus of mail available   45.472497      True  \n",
       "903  re: [sadev] fully-public corpus of mail availa...   97.305191      True  "
      ]
     },
     "execution_count": 638,
     "metadata": {},
     "output_type": "execute_result"
    }
   ],
   "source": [
    "test_rank_df[test_rank_df.priority].tail(10)"
   ]
  },
  {
   "cell_type": "markdown",
   "metadata": {},
   "source": [
    "As seen in the following histogram, most of the email lies towards the lowe ends. So, most of the email haven't been prioritized, which is good. Towards the higher weight range, very less emails exist which are prioritized.\n",
    "\n",
    "Most of the emails have low weights probably due to unseen terms and threads in the training weights. It is clear that the training algorithm is unaware of the new data and the weighting matrices need to be updated for better results."
   ]
  },
  {
   "cell_type": "code",
   "execution_count": 622,
   "metadata": {},
   "outputs": [
    {
     "data": {
      "text/plain": [
       "<matplotlib.axes._subplots.AxesSubplot at 0x15b47c6e898>"
      ]
     },
     "execution_count": 622,
     "metadata": {},
     "output_type": "execute_result"
    },
    {
     "data": {
      "image/png": "[encoded data removed]",
      "text/plain": [
       "<Figure size 432x288 with 1 Axes>"
      ]
     },
     "metadata": {},
     "output_type": "display_data"
    }
   ],
   "source": [
    "test_rank_df['rank'].plot.hist(bins=50)"
   ]
  },
  {
   "cell_type": "markdown",
   "metadata": {},
   "source": [
    "Similarly, the following density plot also shows that most of the emails lie in the lower end. Besides, this plot is much steeper than the training plot. This indicates that the test data includes many observations not in our training data and the ranking algorithm effectively ignores the information as they do not match anything."
   ]
  },
  {
   "cell_type": "code",
   "execution_count": 642,
   "metadata": {},
   "outputs": [
    {
     "data": {
      "text/plain": [
       "<matplotlib.axes._subplots.AxesSubplot at 0x15b4bb35a58>"
      ]
     },
     "execution_count": 642,
     "metadata": {},
     "output_type": "execute_result"
    },
    {
     "data": {
      "image/png": "[encoded data removed]",
      "text/plain": [
       "<Figure size 432x288 with 1 Axes>"
      ]
     },
     "metadata": {},
     "output_type": "display_data"
    }
   ],
   "source": [
    "test_rank_df['rank'].plot.density()"
   ]
  },
  {
   "cell_type": "markdown",
   "metadata": {},
   "source": [
    "# Conclusion\n",
    "Through this notebook, we learnt how to develop a basic ranking algorithm for email messages. Email ranking is not like Classification problems where the output is defined and hence, there's not a proper metric for testing accuracy for such systems.\n",
    "\n",
    "Since, the SpamAssassin dataset contains only one side of the conversation, we can't get the full picture of the situation and our algorithm might not function well in a real environment. The weights of the algorithms need to be regularly updated with new email messages for better accuracy."
   ]
  }
 ],
 "metadata": {
  "kernelspec": {
   "display_name": "Python 3",
   "language": "python",
   "name": "python3"
  },
  "language_info": {
   "codemirror_mode": {
    "name": "ipython",
    "version": 3
   },
   "file_extension": ".py",
   "mimetype": "text/x-python",
   "name": "python",
   "nbconvert_exporter": "python",
   "pygments_lexer": "ipython3",
   "version": "3.6.8"
  }
 },
 "nbformat": 4,
 "nbformat_minor": 2
}
